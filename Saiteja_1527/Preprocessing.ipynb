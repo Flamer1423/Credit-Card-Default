{
 "cells": [
  {
   "cell_type": "markdown",
   "metadata": {},
   "source": [
    "# Importing Libraries"
   ]
  },
  {
   "cell_type": "code",
   "execution_count": 56,
   "metadata": {},
   "outputs": [],
   "source": [
    "import pandas as pd\n",
    "import os as os\n",
    "import numpy as np\n",
    "import matplotlib.pyplot as plt\n",
    "import seaborn as sns\n",
    "from sklearn import cross_validation\n",
    "import pylab as pylab\n",
    "%matplotlib inline\n",
    "os.chdir(r'C:\\Users\\Saiteja\\Desktop\\Inter data')"
   ]
  },
  {
   "cell_type": "markdown",
   "metadata": {},
   "source": [
    "## Reading the file"
   ]
  },
  {
   "cell_type": "code",
   "execution_count": 39,
   "metadata": {
    "collapsed": true
   },
   "outputs": [],
   "source": [
    "#from sklearn import model_selection"
   ]
  },
  {
   "cell_type": "code",
   "execution_count": 3,
   "metadata": {},
   "outputs": [
    {
     "data": {
      "text/plain": [
       "'C:\\\\Users\\\\Saiteja\\\\Desktop\\\\Inter data'"
      ]
     },
     "execution_count": 3,
     "metadata": {},
     "output_type": "execute_result"
    }
   ],
   "source": [
    "credit = pd.read_excel(\"default of credit card clients.xls\",names = [\"LIMIT_BAL\",\"SEX\",\"EDUCATION\",\"MARRIAGE\",\"AGE\",\"PAY_0\",\"PAY_2\",\"PAY_3\",\"PAY_4\",\"PAY_5\",\"PAY_6\",\"BILL_AMT1\",\"BILL_AMT2\",\"BILL_AMT3\",\"BILL_AMT4\",\"BILL_AMT5\",\"BILL_AMT6\",\"PAY_AMT1\",\"PAY_AMT2\",\"PAY_AMT3\",\"PAY_AMT4\",\"PAY_AMT5\",\"PAY_AMT6\",\"default payment next month\"] )\n",
    "credit.head()\n",
    "os.getcwd()"
   ]
  },
  {
   "cell_type": "code",
   "execution_count": 4,
   "metadata": {},
   "outputs": [
    {
     "name": "stdout",
     "output_type": "stream",
     "text": [
      "LIMIT_BAL                     0\n",
      "SEX                           0\n",
      "EDUCATION                     0\n",
      "MARRIAGE                      0\n",
      "AGE                           0\n",
      "PAY_0                         0\n",
      "PAY_2                         0\n",
      "PAY_3                         0\n",
      "PAY_4                         0\n",
      "PAY_5                         0\n",
      "PAY_6                         0\n",
      "BILL_AMT1                     0\n",
      "BILL_AMT2                     0\n",
      "BILL_AMT3                     0\n",
      "BILL_AMT4                     0\n",
      "BILL_AMT5                     0\n",
      "BILL_AMT6                     0\n",
      "PAY_AMT1                      0\n",
      "PAY_AMT2                      0\n",
      "PAY_AMT3                      0\n",
      "PAY_AMT4                      0\n",
      "PAY_AMT5                      0\n",
      "PAY_AMT6                      0\n",
      "default payment next month    0\n",
      "dtype: int64\n",
      "\n",
      " Total:\t\t 0\n"
     ]
    }
   ],
   "source": [
    "#credit.isnull().values.any()\n",
    "#credit.info()\n",
    "print(len(credit.index) - credit.count())\n",
    "print('\\n Total:\\t\\t', credit.isnull().any(1).sum())"
   ]
  },
  {
   "cell_type": "code",
   "execution_count": 5,
   "metadata": {},
   "outputs": [
    {
     "data": {
      "text/plain": [
       "pandas.core.frame.DataFrame"
      ]
     },
     "execution_count": 5,
     "metadata": {},
     "output_type": "execute_result"
    }
   ],
   "source": [
    "type(credit)"
   ]
  },
  {
   "cell_type": "code",
   "execution_count": 6,
   "metadata": {},
   "outputs": [
    {
     "data": {
      "text/plain": [
       "<bound method DataFrame.info of        LIMIT_BAL  SEX  EDUCATION  MARRIAGE  AGE  PAY_0  PAY_2  PAY_3  PAY_4  \\\n",
       "ID     LIMIT_BAL  SEX  EDUCATION  MARRIAGE  AGE  PAY_0  PAY_2  PAY_3  PAY_4   \n",
       "1          20000    2          2         1   24      2      2     -1     -1   \n",
       "2         120000    2          2         2   26     -1      2      0      0   \n",
       "3          90000    2          2         2   34      0      0      0      0   \n",
       "4          50000    2          2         1   37      0      0      0      0   \n",
       "5          50000    1          2         1   57     -1      0     -1      0   \n",
       "6          50000    1          1         2   37      0      0      0      0   \n",
       "7         500000    1          1         2   29      0      0      0      0   \n",
       "8         100000    2          2         2   23      0     -1     -1      0   \n",
       "9         140000    2          3         1   28      0      0      2      0   \n",
       "10         20000    1          3         2   35     -2     -2     -2     -2   \n",
       "11        200000    2          3         2   34      0      0      2      0   \n",
       "12        260000    2          1         2   51     -1     -1     -1     -1   \n",
       "13        630000    2          2         2   41     -1      0     -1     -1   \n",
       "14         70000    1          2         2   30      1      2      2      0   \n",
       "15        250000    1          1         2   29      0      0      0      0   \n",
       "16         50000    2          3         3   23      1      2      0      0   \n",
       "17         20000    1          1         2   24      0      0      2      2   \n",
       "18        320000    1          1         1   49      0      0      0     -1   \n",
       "19        360000    2          1         1   49      1     -2     -2     -2   \n",
       "20        180000    2          1         2   29      1     -2     -2     -2   \n",
       "21        130000    2          3         2   39      0      0      0      0   \n",
       "22        120000    2          2         1   39     -1     -1     -1     -1   \n",
       "23         70000    2          2         2   26      2      0      0      2   \n",
       "24        450000    2          1         1   40     -2     -2     -2     -2   \n",
       "25         90000    1          1         2   23      0      0      0     -1   \n",
       "26         50000    1          3         2   23      0      0      0      0   \n",
       "27         60000    1          1         2   27      1     -2     -1     -1   \n",
       "28         50000    2          3         2   30      0      0      0      0   \n",
       "29         50000    2          3         1   47     -1     -1     -1     -1   \n",
       "...          ...  ...        ...       ...  ...    ...    ...    ...    ...   \n",
       "29971     360000    1          1         1   34     -1     -1     -1      0   \n",
       "29972      80000    1          3         1   36      0      0      0      0   \n",
       "29973     190000    1          1         1   37      0      0      0      0   \n",
       "29974     230000    1          2         1   35      1     -2     -2     -2   \n",
       "29975      50000    1          2         1   37      1      2      2      2   \n",
       "29976     220000    1          2         1   41      0      0     -1     -1   \n",
       "29977      40000    1          2         2   47      2      2      3      2   \n",
       "29978     420000    1          1         2   34      0      0      0      0   \n",
       "29979     310000    1          2         1   39      0      0      0      0   \n",
       "29980     180000    1          1         1   32     -2     -2     -2     -2   \n",
       "29981      50000    1          3         2   42      0      0      0      0   \n",
       "29982      50000    1          2         1   44      1      2      2      2   \n",
       "29983      90000    1          2         1   36      0      0      0      0   \n",
       "29984      20000    1          2         1   44     -2     -2     -2     -2   \n",
       "29985      30000    1          2         2   38     -1     -1     -2     -1   \n",
       "29986     240000    1          1         2   30     -2     -2     -2     -2   \n",
       "29987     360000    1          1         2   35     -1     -1     -2     -2   \n",
       "29988     130000    1          1         2   34      0      0      0      0   \n",
       "29989     250000    1          1         1   34      0      0      0      0   \n",
       "29990     150000    1          1         2   35     -1     -1     -1     -1   \n",
       "29991     140000    1          2         1   41      0      0      0      0   \n",
       "29992     210000    1          2         1   34      3      2      2      2   \n",
       "29993      10000    1          3         1   43      0      0      0     -2   \n",
       "29994     100000    1          1         2   38      0     -1     -1      0   \n",
       "29995      80000    1          2         2   34      2      2      2      2   \n",
       "29996     220000    1          3         1   39      0      0      0      0   \n",
       "29997     150000    1          3         2   43     -1     -1     -1     -1   \n",
       "29998      30000    1          2         2   37      4      3      2     -1   \n",
       "29999      80000    1          3         1   41      1     -1      0      0   \n",
       "30000      50000    1          2         1   46      0      0      0      0   \n",
       "\n",
       "       PAY_5             ...              BILL_AMT4  BILL_AMT5  BILL_AMT6  \\\n",
       "ID     PAY_5             ...              BILL_AMT4  BILL_AMT5  BILL_AMT6   \n",
       "1         -2             ...                      0          0          0   \n",
       "2          0             ...                   3272       3455       3261   \n",
       "3          0             ...                  14331      14948      15549   \n",
       "4          0             ...                  28314      28959      29547   \n",
       "5          0             ...                  20940      19146      19131   \n",
       "6          0             ...                  19394      19619      20024   \n",
       "7          0             ...                 542653     483003     473944   \n",
       "8          0             ...                    221       -159        567   \n",
       "9          0             ...                  12211      11793       3719   \n",
       "10        -1             ...                      0      13007      13912   \n",
       "11         0             ...                   2513       1828       3731   \n",
       "12        -1             ...                   8517      22287      13668   \n",
       "13        -1             ...                   6500       6500       2870   \n",
       "14         0             ...                  66782      36137      36894   \n",
       "15         0             ...                  59696      56875      55512   \n",
       "16         0             ...                  28771      29531      30211   \n",
       "17         2             ...                  18338      17905      19104   \n",
       "18        -1             ...                  70074       5856     195599   \n",
       "19        -2             ...                      0          0          0   \n",
       "20        -2             ...                      0          0          0   \n",
       "21         0             ...                  20616      11802        930   \n",
       "22        -1             ...                      0        632        316   \n",
       "23         2             ...                  44006      46905      46012   \n",
       "24        -2             ...                    560          0          0   \n",
       "25         0             ...                   5398       6360       8292   \n",
       "26         0             ...                  28967      29829      30046   \n",
       "27        -1             ...                    -57        127       -189   \n",
       "28         0             ...                  17878      18931      19617   \n",
       "29        -1             ...                   2040      30430        257   \n",
       "...      ...             ...                    ...        ...        ...   \n",
       "29971      0             ...                  49005       8676      19487   \n",
       "29972      0             ...                  69674      71070      73612   \n",
       "29973      0             ...                  29223      19616     148482   \n",
       "29974     -2             ...                      0          0          0   \n",
       "29975      0             ...                   2846       1585       1324   \n",
       "29976     -2             ...                   5924       1759       1824   \n",
       "29977      2             ...                  51259      47151      46934   \n",
       "29978      0             ...                 141695     144839     147954   \n",
       "29979      0             ...                 219409     216540     210675   \n",
       "29980     -2             ...                      0          0          0   \n",
       "29981      0             ...                  50360      19971      19694   \n",
       "29982      0             ...                  28192      22676      14647   \n",
       "29983      0             ...                  11328      12036      14329   \n",
       "29984     -2             ...                   2882       9235       1719   \n",
       "29985     -1             ...                   1993       1907       3319   \n",
       "29986     -2             ...                      0          0          0   \n",
       "29987     -2             ...                      0          0          0   \n",
       "29988      0             ...                 108047      93708      97353   \n",
       "29989      0             ...                 245750     175005     179687   \n",
       "29990     -1             ...                    780          0          0   \n",
       "29991      0             ...                 138262      49675      46121   \n",
       "29992      2             ...                   2500       2500       2500   \n",
       "29993     -2             ...                      0          0          0   \n",
       "29994      0             ...                  70626      69473      55004   \n",
       "29995      2             ...                  77519      82607      81158   \n",
       "29996      0             ...                  88004      31237      15980   \n",
       "29997      0             ...                   8979       5190          0   \n",
       "29998      0             ...                  20878      20582      19357   \n",
       "29999      0             ...                  52774      11855      48944   \n",
       "30000      0             ...                  36535      32428      15313   \n",
       "\n",
       "       PAY_AMT1  PAY_AMT2  PAY_AMT3  PAY_AMT4  PAY_AMT5  PAY_AMT6  \\\n",
       "ID     PAY_AMT1  PAY_AMT2  PAY_AMT3  PAY_AMT4  PAY_AMT5  PAY_AMT6   \n",
       "1             0       689         0         0         0         0   \n",
       "2             0      1000      1000      1000         0      2000   \n",
       "3          1518      1500      1000      1000      1000      5000   \n",
       "4          2000      2019      1200      1100      1069      1000   \n",
       "5          2000     36681     10000      9000       689       679   \n",
       "6          2500      1815       657      1000      1000       800   \n",
       "7         55000     40000     38000     20239     13750     13770   \n",
       "8           380       601         0       581      1687      1542   \n",
       "9          3329         0       432      1000      1000      1000   \n",
       "10            0         0         0     13007      1122         0   \n",
       "11         2306        12        50       300      3738        66   \n",
       "12        21818      9966      8583     22301         0      3640   \n",
       "13         1000      6500      6500      6500      2870         0   \n",
       "14         3200         0      3000      3000      1500         0   \n",
       "15         3000      3000      3000      3000      3000      3000   \n",
       "16            0      1500      1100      1200      1300      1100   \n",
       "17         3200         0      1500         0      1650         0   \n",
       "18        10358     10000     75940     20000    195599     50000   \n",
       "19            0         0         0         0         0         0   \n",
       "20            0         0         0         0         0         0   \n",
       "21         3000      1537      1000      2000       930     33764   \n",
       "22          316       316         0       632       316         0   \n",
       "23         2007      3582         0      3601         0      1820   \n",
       "24        19428      1473       560         0         0      1128   \n",
       "25         5757         0      5398      1200      2045      2000   \n",
       "26         1973      1426      1001      1432      1062       997   \n",
       "27            0      1000         0       500         0      1000   \n",
       "28         1300      1300      1000      1500      1000      1012   \n",
       "29         3415      3421      2044     30430       257         0   \n",
       "...         ...       ...       ...       ...       ...       ...   \n",
       "29971     52951     64535      8907        53     19584     16080   \n",
       "29972      2395      2500      2530      2556      3700      3000   \n",
       "29973      2000      3869     25128     10115    148482      4800   \n",
       "29974         0         0         0         0         0         0   \n",
       "29975         0      3000         0         0      1000      1000   \n",
       "29976      8840      6643      5924      1759      1824      7022   \n",
       "29977      4000         0      2000         0      3520         0   \n",
       "29978      7000      7000      5500      5500      5600      5000   \n",
       "29979     10029      9218     10029      8049      8040     10059   \n",
       "29980         0         0         0         0         0         0   \n",
       "29981     10000      4000      5000      3000      4500      2000   \n",
       "29982      2300      1700         0       517       503       585   \n",
       "29983      1500      1500      1500      1200      2500         0   \n",
       "29984      2890      2720      2890      9263      1824      1701   \n",
       "29985       923      2977      1999      3057      3319      1000   \n",
       "29986         0         0         0         0         0         0   \n",
       "29987         0         0         0         0         0         0   \n",
       "29988      3000      2000     93000      4000      5027      4005   \n",
       "29989     65000      8800      9011      6000      7000      6009   \n",
       "29990      9054         0       783         0         0         0   \n",
       "29991      6000      7000      4228      1505      2000      2000   \n",
       "29992         0         0         0         0         0         0   \n",
       "29993      2000         0         0         0         0         0   \n",
       "29994      2000    111784      4000      3000      2000      2000   \n",
       "29995      7000      3500         0      7000         0      4000   \n",
       "29996      8500     20000      5003      3047      5000      1000   \n",
       "29997      1837      3526      8998       129         0         0   \n",
       "29998         0         0     22000      4200      2000      3100   \n",
       "29999     85900      3409      1178      1926     52964      1804   \n",
       "30000      2078      1800      1430      1000      1000      1000   \n",
       "\n",
       "       default payment next month  \n",
       "ID     default payment next month  \n",
       "1                               1  \n",
       "2                               1  \n",
       "3                               0  \n",
       "4                               0  \n",
       "5                               0  \n",
       "6                               0  \n",
       "7                               0  \n",
       "8                               0  \n",
       "9                               0  \n",
       "10                              0  \n",
       "11                              0  \n",
       "12                              0  \n",
       "13                              0  \n",
       "14                              1  \n",
       "15                              0  \n",
       "16                              0  \n",
       "17                              1  \n",
       "18                              0  \n",
       "19                              0  \n",
       "20                              0  \n",
       "21                              0  \n",
       "22                              1  \n",
       "23                              1  \n",
       "24                              1  \n",
       "25                              0  \n",
       "26                              0  \n",
       "27                              1  \n",
       "28                              0  \n",
       "29                              0  \n",
       "...                           ...  \n",
       "29971                           0  \n",
       "29972                           0  \n",
       "29973                           0  \n",
       "29974                           1  \n",
       "29975                           1  \n",
       "29976                           0  \n",
       "29977                           1  \n",
       "29978                           0  \n",
       "29979                           0  \n",
       "29980                           0  \n",
       "29981                           0  \n",
       "29982                           0  \n",
       "29983                           1  \n",
       "29984                           0  \n",
       "29985                           0  \n",
       "29986                           0  \n",
       "29987                           0  \n",
       "29988                           0  \n",
       "29989                           0  \n",
       "29990                           0  \n",
       "29991                           0  \n",
       "29992                           1  \n",
       "29993                           0  \n",
       "29994                           0  \n",
       "29995                           1  \n",
       "29996                           0  \n",
       "29997                           0  \n",
       "29998                           1  \n",
       "29999                           1  \n",
       "30000                           1  \n",
       "\n",
       "[30001 rows x 24 columns]>"
      ]
     },
     "execution_count": 6,
     "metadata": {},
     "output_type": "execute_result"
    }
   ],
   "source": [
    "credit.info"
   ]
  },
  {
   "cell_type": "code",
   "execution_count": 70,
   "metadata": {
    "collapsed": true
   },
   "outputs": [],
   "source": [
    "credit1 = pd.read_csv('credit1.csv',index_col=0)"
   ]
  },
  {
   "cell_type": "code",
   "execution_count": 71,
   "metadata": {},
   "outputs": [
    {
     "data": {
      "text/html": [
       "<div>\n",
       "<style>\n",
       "    .dataframe thead tr:only-child th {\n",
       "        text-align: right;\n",
       "    }\n",
       "\n",
       "    .dataframe thead th {\n",
       "        text-align: left;\n",
       "    }\n",
       "\n",
       "    .dataframe tbody tr th {\n",
       "        vertical-align: top;\n",
       "    }\n",
       "</style>\n",
       "<table border=\"1\" class=\"dataframe\">\n",
       "  <thead>\n",
       "    <tr style=\"text-align: right;\">\n",
       "      <th></th>\n",
       "      <th>LIMIT_BAL</th>\n",
       "      <th>SEX</th>\n",
       "      <th>EDUCATION</th>\n",
       "      <th>MARRIAGE</th>\n",
       "      <th>AGE</th>\n",
       "      <th>PAY_0</th>\n",
       "      <th>PAY_2</th>\n",
       "      <th>PAY_3</th>\n",
       "      <th>PAY_4</th>\n",
       "      <th>PAY_5</th>\n",
       "      <th>...</th>\n",
       "      <th>BILL_AMT4</th>\n",
       "      <th>BILL_AMT5</th>\n",
       "      <th>BILL_AMT6</th>\n",
       "      <th>PAY_AMT1</th>\n",
       "      <th>PAY_AMT2</th>\n",
       "      <th>PAY_AMT3</th>\n",
       "      <th>PAY_AMT4</th>\n",
       "      <th>PAY_AMT5</th>\n",
       "      <th>PAY_AMT6</th>\n",
       "      <th>default payment next month</th>\n",
       "    </tr>\n",
       "  </thead>\n",
       "  <tbody>\n",
       "    <tr>\n",
       "      <th>1</th>\n",
       "      <td>20000</td>\n",
       "      <td>2</td>\n",
       "      <td>2</td>\n",
       "      <td>1</td>\n",
       "      <td>24</td>\n",
       "      <td>2</td>\n",
       "      <td>2</td>\n",
       "      <td>-1</td>\n",
       "      <td>-1</td>\n",
       "      <td>-2</td>\n",
       "      <td>...</td>\n",
       "      <td>0</td>\n",
       "      <td>0</td>\n",
       "      <td>0</td>\n",
       "      <td>0</td>\n",
       "      <td>689</td>\n",
       "      <td>0</td>\n",
       "      <td>0</td>\n",
       "      <td>0</td>\n",
       "      <td>0</td>\n",
       "      <td>1</td>\n",
       "    </tr>\n",
       "    <tr>\n",
       "      <th>2</th>\n",
       "      <td>120000</td>\n",
       "      <td>2</td>\n",
       "      <td>2</td>\n",
       "      <td>2</td>\n",
       "      <td>26</td>\n",
       "      <td>-1</td>\n",
       "      <td>2</td>\n",
       "      <td>0</td>\n",
       "      <td>0</td>\n",
       "      <td>0</td>\n",
       "      <td>...</td>\n",
       "      <td>3272</td>\n",
       "      <td>3455</td>\n",
       "      <td>3261</td>\n",
       "      <td>0</td>\n",
       "      <td>1000</td>\n",
       "      <td>1000</td>\n",
       "      <td>1000</td>\n",
       "      <td>0</td>\n",
       "      <td>2000</td>\n",
       "      <td>1</td>\n",
       "    </tr>\n",
       "    <tr>\n",
       "      <th>3</th>\n",
       "      <td>90000</td>\n",
       "      <td>2</td>\n",
       "      <td>2</td>\n",
       "      <td>2</td>\n",
       "      <td>34</td>\n",
       "      <td>0</td>\n",
       "      <td>0</td>\n",
       "      <td>0</td>\n",
       "      <td>0</td>\n",
       "      <td>0</td>\n",
       "      <td>...</td>\n",
       "      <td>14331</td>\n",
       "      <td>14948</td>\n",
       "      <td>15549</td>\n",
       "      <td>1518</td>\n",
       "      <td>1500</td>\n",
       "      <td>1000</td>\n",
       "      <td>1000</td>\n",
       "      <td>1000</td>\n",
       "      <td>5000</td>\n",
       "      <td>0</td>\n",
       "    </tr>\n",
       "    <tr>\n",
       "      <th>4</th>\n",
       "      <td>50000</td>\n",
       "      <td>2</td>\n",
       "      <td>2</td>\n",
       "      <td>1</td>\n",
       "      <td>37</td>\n",
       "      <td>0</td>\n",
       "      <td>0</td>\n",
       "      <td>0</td>\n",
       "      <td>0</td>\n",
       "      <td>0</td>\n",
       "      <td>...</td>\n",
       "      <td>28314</td>\n",
       "      <td>28959</td>\n",
       "      <td>29547</td>\n",
       "      <td>2000</td>\n",
       "      <td>2019</td>\n",
       "      <td>1200</td>\n",
       "      <td>1100</td>\n",
       "      <td>1069</td>\n",
       "      <td>1000</td>\n",
       "      <td>0</td>\n",
       "    </tr>\n",
       "    <tr>\n",
       "      <th>5</th>\n",
       "      <td>50000</td>\n",
       "      <td>1</td>\n",
       "      <td>2</td>\n",
       "      <td>1</td>\n",
       "      <td>57</td>\n",
       "      <td>-1</td>\n",
       "      <td>0</td>\n",
       "      <td>-1</td>\n",
       "      <td>0</td>\n",
       "      <td>0</td>\n",
       "      <td>...</td>\n",
       "      <td>20940</td>\n",
       "      <td>19146</td>\n",
       "      <td>19131</td>\n",
       "      <td>2000</td>\n",
       "      <td>36681</td>\n",
       "      <td>10000</td>\n",
       "      <td>9000</td>\n",
       "      <td>689</td>\n",
       "      <td>679</td>\n",
       "      <td>0</td>\n",
       "    </tr>\n",
       "  </tbody>\n",
       "</table>\n",
       "<p>5 rows × 24 columns</p>\n",
       "</div>"
      ],
      "text/plain": [
       "   LIMIT_BAL  SEX  EDUCATION  MARRIAGE  AGE  PAY_0  PAY_2  PAY_3  PAY_4  \\\n",
       "1      20000    2          2         1   24      2      2     -1     -1   \n",
       "2     120000    2          2         2   26     -1      2      0      0   \n",
       "3      90000    2          2         2   34      0      0      0      0   \n",
       "4      50000    2          2         1   37      0      0      0      0   \n",
       "5      50000    1          2         1   57     -1      0     -1      0   \n",
       "\n",
       "   PAY_5             ...              BILL_AMT4  BILL_AMT5  BILL_AMT6  \\\n",
       "1     -2             ...                      0          0          0   \n",
       "2      0             ...                   3272       3455       3261   \n",
       "3      0             ...                  14331      14948      15549   \n",
       "4      0             ...                  28314      28959      29547   \n",
       "5      0             ...                  20940      19146      19131   \n",
       "\n",
       "   PAY_AMT1  PAY_AMT2  PAY_AMT3  PAY_AMT4  PAY_AMT5  PAY_AMT6  \\\n",
       "1         0       689         0         0         0         0   \n",
       "2         0      1000      1000      1000         0      2000   \n",
       "3      1518      1500      1000      1000      1000      5000   \n",
       "4      2000      2019      1200      1100      1069      1000   \n",
       "5      2000     36681     10000      9000       689       679   \n",
       "\n",
       "   default payment next month  \n",
       "1                           1  \n",
       "2                           1  \n",
       "3                           0  \n",
       "4                           0  \n",
       "5                           0  \n",
       "\n",
       "[5 rows x 24 columns]"
      ]
     },
     "execution_count": 71,
     "metadata": {},
     "output_type": "execute_result"
    }
   ],
   "source": [
    "#new_credit.drop(new_credit.columns[[0]], axis=1)\n",
    "credit1.head()"
   ]
  },
  {
   "cell_type": "code",
   "execution_count": 72,
   "metadata": {},
   "outputs": [
    {
     "data": {
      "text/plain": [
       "Index(['LIMIT_BAL', 'SEX', 'EDUCATION', 'MARRIAGE', 'AGE', 'PAY_0', 'PAY_2',\n",
       "       'PAY_3', 'PAY_4', 'PAY_5', 'PAY_6', 'BILL_AMT1', 'BILL_AMT2',\n",
       "       'BILL_AMT3', 'BILL_AMT4', 'BILL_AMT5', 'BILL_AMT6', 'PAY_AMT1',\n",
       "       'PAY_AMT2', 'PAY_AMT3', 'PAY_AMT4', 'PAY_AMT5', 'PAY_AMT6',\n",
       "       'default payment next month'],\n",
       "      dtype='object')"
      ]
     },
     "execution_count": 72,
     "metadata": {},
     "output_type": "execute_result"
    }
   ],
   "source": [
    "credit1.columns"
   ]
  },
  {
   "cell_type": "code",
   "execution_count": 73,
   "metadata": {},
   "outputs": [
    {
     "data": {
      "text/plain": [
       "2    18112\n",
       "1    11888\n",
       "Name: SEX, dtype: int64"
      ]
     },
     "execution_count": 73,
     "metadata": {},
     "output_type": "execute_result"
    }
   ],
   "source": [
    "credit1.SEX = credit1['SEX'].astype('category')\n",
    "credit1.SEX.value_counts()"
   ]
  },
  {
   "cell_type": "code",
   "execution_count": 74,
   "metadata": {},
   "outputs": [
    {
     "data": {
      "text/plain": [
       "2    14030\n",
       "1    10585\n",
       "3     4917\n",
       "5      280\n",
       "4      123\n",
       "6       51\n",
       "0       14\n",
       "Name: EDUCATION, dtype: int64"
      ]
     },
     "execution_count": 74,
     "metadata": {},
     "output_type": "execute_result"
    }
   ],
   "source": [
    "credit1.EDUCATION = credit1['EDUCATION'].astype('category')\n",
    "credit1.EDUCATION.value_counts()"
   ]
  },
  {
   "cell_type": "code",
   "execution_count": 75,
   "metadata": {},
   "outputs": [
    {
     "data": {
      "text/plain": [
       "2    15964\n",
       "1    13659\n",
       "3      323\n",
       "0       54\n",
       "Name: MARRIAGE, dtype: int64"
      ]
     },
     "execution_count": 75,
     "metadata": {},
     "output_type": "execute_result"
    }
   ],
   "source": [
    "credit1.MARRIAGE = credit1['MARRIAGE'].astype('category')\n",
    "credit1.MARRIAGE.value_counts()"
   ]
  },
  {
   "cell_type": "code",
   "execution_count": 6,
   "metadata": {},
   "outputs": [
    {
     "data": {
      "text/plain": [
       "0    23364\n",
       "1     6636\n",
       "Name: default payment next month, dtype: int64"
      ]
     },
     "execution_count": 6,
     "metadata": {},
     "output_type": "execute_result"
    }
   ],
   "source": [
    "credit1.defaultpaymentnextmonth = credit1['default payment next month'].astype('category')\n",
    "credit1.defaultpaymentnextmonth.value_counts()"
   ]
  },
  {
   "cell_type": "code",
   "execution_count": 76,
   "metadata": {
    "collapsed": true
   },
   "outputs": [],
   "source": [
    "credit1.MARRIAGE = credit1.MARRIAGE "
   ]
  },
  {
   "cell_type": "code",
   "execution_count": 77,
   "metadata": {
    "collapsed": true
   },
   "outputs": [],
   "source": [
    "# Importing LabelEncoder and initializing it\n",
    "from sklearn.preprocessing import LabelEncoder\n",
    "le=LabelEncoder()"
   ]
  },
  {
   "cell_type": "code",
   "execution_count": 78,
   "metadata": {
    "collapsed": true
   },
   "outputs": [],
   "source": [
    "# Iterating over all the common columns in data\n",
    "for col in credit1.columns.values:\n",
    "       # Encoding only categorical variables\n",
    "       if credit1[col].dtypes == 'object':\n",
    "              credit1_cat = credit1[col].append(credit1[col])\n",
    "              le.fit(credit1_cat.values)\n",
    "              credit2[col]=le.transform(credit1[col])\n",
    "      "
   ]
  },
  {
   "cell_type": "code",
   "execution_count": 79,
   "metadata": {},
   "outputs": [
    {
     "data": {
      "text/plain": [
       "LIMIT_BAL                        int64\n",
       "SEX                           category\n",
       "EDUCATION                     category\n",
       "MARRIAGE                      category\n",
       "AGE                              int64\n",
       "PAY_0                            int64\n",
       "PAY_2                            int64\n",
       "PAY_3                            int64\n",
       "PAY_4                            int64\n",
       "PAY_5                            int64\n",
       "PAY_6                            int64\n",
       "BILL_AMT1                        int64\n",
       "BILL_AMT2                        int64\n",
       "BILL_AMT3                        int64\n",
       "BILL_AMT4                        int64\n",
       "BILL_AMT5                        int64\n",
       "BILL_AMT6                        int64\n",
       "PAY_AMT1                         int64\n",
       "PAY_AMT2                         int64\n",
       "PAY_AMT3                         int64\n",
       "PAY_AMT4                         int64\n",
       "PAY_AMT5                         int64\n",
       "PAY_AMT6                         int64\n",
       "default payment next month       int64\n",
       "dtype: object"
      ]
     },
     "execution_count": 79,
     "metadata": {},
     "output_type": "execute_result"
    }
   ],
   "source": [
    "credit1.dtypes"
   ]
  },
  {
   "cell_type": "code",
   "execution_count": 80,
   "metadata": {},
   "outputs": [
    {
     "data": {
      "text/html": [
       "<div>\n",
       "<style>\n",
       "    .dataframe thead tr:only-child th {\n",
       "        text-align: right;\n",
       "    }\n",
       "\n",
       "    .dataframe thead th {\n",
       "        text-align: left;\n",
       "    }\n",
       "\n",
       "    .dataframe tbody tr th {\n",
       "        vertical-align: top;\n",
       "    }\n",
       "</style>\n",
       "<table border=\"1\" class=\"dataframe\">\n",
       "  <thead>\n",
       "    <tr style=\"text-align: right;\">\n",
       "      <th></th>\n",
       "      <th>LIMIT_BAL</th>\n",
       "      <th>SEX</th>\n",
       "      <th>EDUCATION</th>\n",
       "      <th>MARRIAGE</th>\n",
       "      <th>AGE</th>\n",
       "      <th>PAY_0</th>\n",
       "      <th>PAY_2</th>\n",
       "      <th>PAY_3</th>\n",
       "      <th>PAY_4</th>\n",
       "      <th>PAY_5</th>\n",
       "      <th>...</th>\n",
       "      <th>BILL_AMT4</th>\n",
       "      <th>BILL_AMT5</th>\n",
       "      <th>BILL_AMT6</th>\n",
       "      <th>PAY_AMT1</th>\n",
       "      <th>PAY_AMT2</th>\n",
       "      <th>PAY_AMT3</th>\n",
       "      <th>PAY_AMT4</th>\n",
       "      <th>PAY_AMT5</th>\n",
       "      <th>PAY_AMT6</th>\n",
       "      <th>default payment next month</th>\n",
       "    </tr>\n",
       "  </thead>\n",
       "  <tbody>\n",
       "    <tr>\n",
       "      <th>1</th>\n",
       "      <td>20000</td>\n",
       "      <td>2</td>\n",
       "      <td>2</td>\n",
       "      <td>1</td>\n",
       "      <td>24</td>\n",
       "      <td>2</td>\n",
       "      <td>2</td>\n",
       "      <td>-1</td>\n",
       "      <td>-1</td>\n",
       "      <td>-2</td>\n",
       "      <td>...</td>\n",
       "      <td>0</td>\n",
       "      <td>0</td>\n",
       "      <td>0</td>\n",
       "      <td>0</td>\n",
       "      <td>689</td>\n",
       "      <td>0</td>\n",
       "      <td>0</td>\n",
       "      <td>0</td>\n",
       "      <td>0</td>\n",
       "      <td>1</td>\n",
       "    </tr>\n",
       "    <tr>\n",
       "      <th>2</th>\n",
       "      <td>120000</td>\n",
       "      <td>2</td>\n",
       "      <td>2</td>\n",
       "      <td>2</td>\n",
       "      <td>26</td>\n",
       "      <td>-1</td>\n",
       "      <td>2</td>\n",
       "      <td>0</td>\n",
       "      <td>0</td>\n",
       "      <td>0</td>\n",
       "      <td>...</td>\n",
       "      <td>3272</td>\n",
       "      <td>3455</td>\n",
       "      <td>3261</td>\n",
       "      <td>0</td>\n",
       "      <td>1000</td>\n",
       "      <td>1000</td>\n",
       "      <td>1000</td>\n",
       "      <td>0</td>\n",
       "      <td>2000</td>\n",
       "      <td>1</td>\n",
       "    </tr>\n",
       "    <tr>\n",
       "      <th>3</th>\n",
       "      <td>90000</td>\n",
       "      <td>2</td>\n",
       "      <td>2</td>\n",
       "      <td>2</td>\n",
       "      <td>34</td>\n",
       "      <td>0</td>\n",
       "      <td>0</td>\n",
       "      <td>0</td>\n",
       "      <td>0</td>\n",
       "      <td>0</td>\n",
       "      <td>...</td>\n",
       "      <td>14331</td>\n",
       "      <td>14948</td>\n",
       "      <td>15549</td>\n",
       "      <td>1518</td>\n",
       "      <td>1500</td>\n",
       "      <td>1000</td>\n",
       "      <td>1000</td>\n",
       "      <td>1000</td>\n",
       "      <td>5000</td>\n",
       "      <td>0</td>\n",
       "    </tr>\n",
       "    <tr>\n",
       "      <th>4</th>\n",
       "      <td>50000</td>\n",
       "      <td>2</td>\n",
       "      <td>2</td>\n",
       "      <td>1</td>\n",
       "      <td>37</td>\n",
       "      <td>0</td>\n",
       "      <td>0</td>\n",
       "      <td>0</td>\n",
       "      <td>0</td>\n",
       "      <td>0</td>\n",
       "      <td>...</td>\n",
       "      <td>28314</td>\n",
       "      <td>28959</td>\n",
       "      <td>29547</td>\n",
       "      <td>2000</td>\n",
       "      <td>2019</td>\n",
       "      <td>1200</td>\n",
       "      <td>1100</td>\n",
       "      <td>1069</td>\n",
       "      <td>1000</td>\n",
       "      <td>0</td>\n",
       "    </tr>\n",
       "    <tr>\n",
       "      <th>5</th>\n",
       "      <td>50000</td>\n",
       "      <td>1</td>\n",
       "      <td>2</td>\n",
       "      <td>1</td>\n",
       "      <td>57</td>\n",
       "      <td>-1</td>\n",
       "      <td>0</td>\n",
       "      <td>-1</td>\n",
       "      <td>0</td>\n",
       "      <td>0</td>\n",
       "      <td>...</td>\n",
       "      <td>20940</td>\n",
       "      <td>19146</td>\n",
       "      <td>19131</td>\n",
       "      <td>2000</td>\n",
       "      <td>36681</td>\n",
       "      <td>10000</td>\n",
       "      <td>9000</td>\n",
       "      <td>689</td>\n",
       "      <td>679</td>\n",
       "      <td>0</td>\n",
       "    </tr>\n",
       "  </tbody>\n",
       "</table>\n",
       "<p>5 rows × 24 columns</p>\n",
       "</div>"
      ],
      "text/plain": [
       "   LIMIT_BAL SEX EDUCATION MARRIAGE  AGE  PAY_0  PAY_2  PAY_3  PAY_4  PAY_5  \\\n",
       "1      20000   2         2        1   24      2      2     -1     -1     -2   \n",
       "2     120000   2         2        2   26     -1      2      0      0      0   \n",
       "3      90000   2         2        2   34      0      0      0      0      0   \n",
       "4      50000   2         2        1   37      0      0      0      0      0   \n",
       "5      50000   1         2        1   57     -1      0     -1      0      0   \n",
       "\n",
       "              ...              BILL_AMT4  BILL_AMT5  BILL_AMT6  PAY_AMT1  \\\n",
       "1             ...                      0          0          0         0   \n",
       "2             ...                   3272       3455       3261         0   \n",
       "3             ...                  14331      14948      15549      1518   \n",
       "4             ...                  28314      28959      29547      2000   \n",
       "5             ...                  20940      19146      19131      2000   \n",
       "\n",
       "   PAY_AMT2  PAY_AMT3  PAY_AMT4  PAY_AMT5  PAY_AMT6  \\\n",
       "1       689         0         0         0         0   \n",
       "2      1000      1000      1000         0      2000   \n",
       "3      1500      1000      1000      1000      5000   \n",
       "4      2019      1200      1100      1069      1000   \n",
       "5     36681     10000      9000       689       679   \n",
       "\n",
       "   default payment next month  \n",
       "1                           1  \n",
       "2                           1  \n",
       "3                           0  \n",
       "4                           0  \n",
       "5                           0  \n",
       "\n",
       "[5 rows x 24 columns]"
      ]
     },
     "execution_count": 80,
     "metadata": {},
     "output_type": "execute_result"
    }
   ],
   "source": [
    "credit1.head()"
   ]
  },
  {
   "cell_type": "code",
   "execution_count": 82,
   "metadata": {},
   "outputs": [
    {
     "data": {
      "image/png": "[encoded data removed]",
      "text/plain": [
       "<matplotlib.figure.Figure at 0x2ddf31bf60>"
      ]
     },
     "metadata": {},
     "output_type": "display_data"
    }
   ],
   "source": [
    "graph_feature = 'EDUCATION'\n",
    "#Distribution Plot\n",
    "edu = sns.distplot(\n",
    "    credit1[graph_feature]\n",
    ")\n",
    "#pylab.savefig('edu.png')"
   ]
  },
  {
   "cell_type": "code",
   "execution_count": 83,
   "metadata": {},
   "outputs": [
    {
     "data": {
      "image/png": "[encoded data removed]",
      "text/plain": [
       "<matplotlib.figure.Figure at 0x2ddded3240>"
      ]
     },
     "metadata": {},
     "output_type": "display_data"
    }
   ],
   "source": [
    "sns.heatmap(credit1.corr(),vmax=1)\n",
    "pylab.savefig('Heatmap.png')"
   ]
  },
  {
   "cell_type": "code",
   "execution_count": 84,
   "metadata": {},
   "outputs": [
    {
     "data": {
      "image/png": "[encoded data removed]",
      "text/plain": [
       "<matplotlib.figure.Figure at 0x2ddde2f4a8>"
      ]
     },
     "metadata": {},
     "output_type": "display_data"
    }
   ],
   "source": [
    "sns.factorplot(data = credit1,x = dependent_var ,hue = 'default payment next month' ,kind = 'count',size = 5)\n",
    "pylab.savefig('Sexandy.png',bbox_inches = 'tight')"
   ]
  },
  {
   "cell_type": "markdown",
   "metadata": {},
   "source": [
    "## Creating additional features"
   ]
  },
  {
   "cell_type": "code",
   "execution_count": 90,
   "metadata": {},
   "outputs": [
    {
     "data": {
      "text/plain": [
       "Index(['LIMIT_BAL', 'SEX', 'EDUCATION', 'MARRIAGE', 'AGE', 'PAY_0', 'PAY_2',\n",
       "       'PAY_3', 'PAY_4', 'PAY_5', 'PAY_6', 'BILL_AMT1', 'BILL_AMT2',\n",
       "       'BILL_AMT3', 'BILL_AMT4', 'BILL_AMT5', 'BILL_AMT6', 'PAY_AMT1',\n",
       "       'PAY_AMT2', 'PAY_AMT3', 'PAY_AMT4', 'PAY_AMT5', 'PAY_AMT6',\n",
       "       'default payment next month', 'AMT_OWED', 'AVG_6MTH_BAL',\n",
       "       'MISSED_PAYMENTS', 'BALANCE_TO_LIMIT_RATIO'],\n",
       "      dtype='object')"
      ]
     },
     "execution_count": 90,
     "metadata": {},
     "output_type": "execute_result"
    }
   ],
   "source": [
    "credit1.columns"
   ]
  },
  {
   "cell_type": "code",
   "execution_count": 89,
   "metadata": {},
   "outputs": [],
   "source": [
    "#Running or cumulative sum of bill amount - payment amount for each individual\n",
    "credit1['AMT_OWED'] = (credit1.BILL_AMT1-credit1.PAY_AMT1)+(credit1.BILL_AMT2-credit1.PAY_AMT2)+(credit1.BILL_AMT3-credit1.PAY_AMT3)+(credit1.BILL_AMT4-credit1.PAY_AMT4)+(credit1.BILL_AMT5-credit1.PAY_AMT5)+(credit1.BILL_AMT6-credit1.PAY_AMT6)\n",
    "#Mean value of AMT_OWED over a 6 month period\n",
    "credit1['AVG_6MTH_BAL'] = credit1.AMT_OWED/6\n",
    "#Maxium number of missed payments recorded for the individual\n",
    "credit1['MISSED_PAYMENTS'] = credit1.PAY_0 + credit1.PAY_2 + credit1.PAY_3 + credit1.PAY_4 + credit1.PAY_5 + credit1.PAY_6\n",
    "#Average 6 month balance divided by the individual’s credit limit; note anything <= .3 is considered good\n",
    "credit1['BALANCE_TO_LIMIT_RATIO'] = credit1.AVG_6MTH_BAL/credit1.LIMIT_BAL\n",
    "#Groups individuals into 10 year age grouping [20-29] through [70-79]\n",
    "#credit1.AGE_RANGE ="
   ]
  },
  {
   "cell_type": "code",
   "execution_count": 91,
   "metadata": {
    "collapsed": true
   },
   "outputs": [],
   "source": [
    "credit1.to_csv(r'C:\\Users\\Saiteja\\Desktop\\Inter data\\Final_credit',sep= ',',index= False)"
   ]
  },
  {
   "cell_type": "code",
   "execution_count": null,
   "metadata": {
    "collapsed": true
   },
   "outputs": [],
   "source": [
    "#from sklearn.model_selection import train_test_split"
   ]
  },
  {
   "cell_type": "code",
   "execution_count": 13,
   "metadata": {},
   "outputs": [
    {
     "name": "stdout",
     "output_type": "stream",
     "text": [
      "(24000, 24) (24000,)\n",
      "(6000, 24) (6000,)\n"
     ]
    }
   ],
   "source": [
    "#X_train, X_test, y_train, y_test = train_test_split(credit1, y, test_size=0.2)\n",
    "#print (X_train.shape, y_train.shape)\n",
    "#print (X_test.shape, y_test.shape)"
   ]
  },
  {
   "cell_type": "markdown",
   "metadata": {
    "collapsed": true
   },
   "source": [
    "# Modelling"
   ]
  },
  {
   "cell_type": "code",
   "execution_count": 42,
   "metadata": {},
   "outputs": [],
   "source": [
    "#from sklearn.linear_model import LogisticRegression\n",
    "\n",
    "#model = LogisticRegression()\n",
    "#model.fit(X_train,y_train)"
   ]
  },
  {
   "cell_type": "code",
   "execution_count": 43,
   "metadata": {
    "scrolled": true
   },
   "outputs": [],
   "source": [
    "#print(model.score(X_train,y_train))"
   ]
  },
  {
   "cell_type": "code",
   "execution_count": null,
   "metadata": {
    "collapsed": true
   },
   "outputs": [],
   "source": [
    "#model.fit(X_train,y_train)"
   ]
  },
  {
   "cell_type": "code",
   "execution_count": 41,
   "metadata": {},
   "outputs": [],
   "source": [
    "#print(model.score(X_train,y_test))"
   ]
  },
  {
   "cell_type": "code",
   "execution_count": 25,
   "metadata": {
    "collapsed": true
   },
   "outputs": [],
   "source": [
    "#from sklearn.naive_bayes import GaussianNB #Naive bayes"
   ]
  },
  {
   "cell_type": "code",
   "execution_count": 44,
   "metadata": {},
   "outputs": [],
   "source": [
    "#model=GaussianNB()\n",
    "#model.fit(X_train,y_train)\n",
    "#print(model.score(X_train,y_train)) ## LOOKS LIKE NAIVE BAYES IS GIVING BAD SCORE"
   ]
  },
  {
   "cell_type": "code",
   "execution_count": 45,
   "metadata": {},
   "outputs": [],
   "source": [
    "#from sklearn.tree import DecisionTreeClassifier #Decision Tree\n",
    "#model=DecisionTreeClassifier()\n",
    "#model.fit(X_train,y_train)\n",
    "#print(model.score(X_train,y_train)) ## Looks like the model has ovefitted"
   ]
  },
  {
   "cell_type": "code",
   "execution_count": 46,
   "metadata": {},
   "outputs": [],
   "source": [
    "#from sklearn.ensemble import RandomForestClassifier #Random Forest\n",
    "#model=RandomForestClassifier(n_estimators=100)\n",
    "#model.fit(X_train,y_train)"
   ]
  },
  {
   "cell_type": "code",
   "execution_count": 47,
   "metadata": {},
   "outputs": [],
   "source": [
    "#print(model.score(X_train,y_train)) ## Looks like even random forest is overfitting "
   ]
  },
  {
   "cell_type": "code",
   "execution_count": null,
   "metadata": {
    "collapsed": true
   },
   "outputs": [],
   "source": []
  },
  {
   "cell_type": "code",
   "execution_count": null,
   "metadata": {
    "collapsed": true
   },
   "outputs": [],
   "source": []
  },
  {
   "cell_type": "code",
   "execution_count": null,
   "metadata": {
    "collapsed": true
   },
   "outputs": [],
   "source": []
  },
  {
   "cell_type": "code",
   "execution_count": null,
   "metadata": {
    "collapsed": true
   },
   "outputs": [],
   "source": []
  },
  {
   "cell_type": "code",
   "execution_count": null,
   "metadata": {
    "collapsed": true
   },
   "outputs": [],
   "source": []
  },
  {
   "cell_type": "code",
   "execution_count": null,
   "metadata": {
    "collapsed": true
   },
   "outputs": [],
   "source": []
  },
  {
   "cell_type": "code",
   "execution_count": null,
   "metadata": {
    "collapsed": true
   },
   "outputs": [],
   "source": []
  },
  {
   "cell_type": "code",
   "execution_count": null,
   "metadata": {
    "collapsed": true
   },
   "outputs": [],
   "source": []
  },
  {
   "cell_type": "code",
   "execution_count": null,
   "metadata": {
    "collapsed": true
   },
   "outputs": [],
   "source": []
  },
  {
   "cell_type": "code",
   "execution_count": null,
   "metadata": {
    "collapsed": true
   },
   "outputs": [],
   "source": []
  }
 ],
 "metadata": {
  "kernelspec": {
   "display_name": "Python 3",
   "language": "python",
   "name": "python3"
  },
  "language_info": {
   "codemirror_mode": {
    "name": "ipython",
    "version": 3
   },
   "file_extension": ".py",
   "mimetype": "text/x-python",
   "name": "python",
   "nbconvert_exporter": "python",
   "pygments_lexer": "ipython3",
   "version": "3.6.1"
  }
 },
 "nbformat": 4,
 "nbformat_minor": 2
}
